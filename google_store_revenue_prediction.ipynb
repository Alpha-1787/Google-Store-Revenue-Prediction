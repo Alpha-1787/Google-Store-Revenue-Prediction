{
 "cells": [
  {
   "cell_type": "markdown",
   "metadata": {},
   "source": [
    "# Google Analytics Customer Revenue Prediction\n",
    "***\n",
    "#### By Armand Kok and Adam Yang<br>UC Berkeley<br>w207 Applied Machine Learning Fall 2018"
   ]
  },
  {
   "cell_type": "markdown",
   "metadata": {},
   "source": [
    "## Introduction"
   ]
  },
  {
   "cell_type": "markdown",
   "metadata": {},
   "source": [
    "The motivation and data utlized in this project was based off of a Kaggle competition titled *Google Analytics Customer Revenue Prediction* (https://www.kaggle.com/c/ga-customer-revenue-prediction). Google argues that the 80/20 rule where only a small percentage of the customers generate the majority of the revenue, is proven to be true for many businesses. Because of this, it would be beneficial to be able to predict the amount of revenue that a certain customer would contribute to your business based off of meta data collected from their online visit. Being able to identify the small percentage of customers that generate the majority of the revenue may motivate some actionable operational and marketing strategies to target these customers.  \n",
    "\n",
    "For the purpose of this project, we will be using data provided from the online Google Merchandise Store (where Google swag is sold) to predict the revenue generated from each customer.\n",
    "\n",
    "**Task:**<br>\n",
    "Analyze Google Merchandise Store customer dataset to predict revenue per customer (how much money each customer ends up paying).\n",
    "\n",
    "**Purpose:**<br>\n",
    "Help figure out what is the ideal way of organizing marketing budgets to target the customers who contribute the most to the revenue.\n",
    "\n",
    "**Details:**<br>\n",
    "Each customer will be tracked by their `fullVisitorId` and the value that we aim to estimate is the `predictedLogRevenue` of each customer. To create training labels to fit the models we create, we would have to calculate the `predictedLogRevenue` by summing up all of the `transactionRevenue` values for each `fullVisitorId` and then taking the natural log (we add 1 within the natural log in case any of the customers contributed zero dollars in revenue).\n",
    "\n",
    "$$totalTransactionRevenue_{user} = \\sum_{i = 1}^{n}transactionRevenue_{user_i}$$\n",
    "$$predictedLogRevenue_{user} = \\ln{(totalTransactionRevenue_{user} + 1)}$$\n",
    "\n",
    "<br>The model performance will be measured by Root Mean Squared Error (RMSE):\n",
    "\n",
    "$$RMSE = \\sqrt{\\frac{1}{n}\\sum_{i=1}^n(y_i-\\hat{y_i})^2}$$\n",
    "where $\\hat{y}$ is the predicted revenue for a customer for a customer and $y$ is the natural log of the actual summed revenue value plus one.\n"
   ]
  },
  {
   "cell_type": "markdown",
   "metadata": {},
   "source": [
    "##### The Data Field (as provided by the kaggle posting)\n",
    "\n",
    "- **fullVisitorId**: A unique identifier for each user of the Google Merchandise Store.\n",
    "- **channelGrouping**: The channel via which the user came to the Store.\n",
    "- **date**: The date on which the user visited the Store.\n",
    "- **device**: The specifications for the device used to access the Store.\n",
    "- **geoNetwork**: This section contains information about the geography of the user.\n",
    "- **socialEngagementType**: Engagement type, either \"Socially Engaged\" or \"Not Socially Engaged\".\n",
    "- **totals**: This section contains aggregate values across the session.\n",
    "- **trafficSource**: This section contains information about the Traffic Source from which the session originated.\n",
    "- **visitId**: An identifier for this session. This is part of the value usually stored as the _utmb cookie. This is only unique to the user. For a completely unique ID, you should use a combination of fullVisitorId and visitId.\n",
    "- **visitNumber**: The session number for this user. If this is the first session, then this is set to 1.\n",
    "- **visitStartTime**: The timestamp (expressed as POSIX time).\n",
    "- **hits**: This row and nested fields are populated for any and all types of hits. Provides a record of all page visits.\n",
    "- **customDimensions**: This section contains any user-level or session-level custom dimensions that are set for a session. This is a repeated field and has an entry for each dimension that is set.\n",
    "- **totals**: This set of columns mostly includes high-level aggregate data.\n",
    "\n",
    "***Each Row in the data set is a single online visit to the Google Merchandise Store***"
   ]
  },
  {
   "cell_type": "markdown",
   "metadata": {},
   "source": [
    "## Import Libraries"
   ]
  },
  {
   "cell_type": "code",
   "execution_count": 1,
   "metadata": {},
   "outputs": [],
   "source": [
    "import numpy as np\n",
    "import pandas as pd\n",
    "import seaborn as sns\n",
    "import re\n",
    "import ast\n",
    "import json\n",
    "import matplotlib.pyplot as plt\n",
    "import statsmodels.formula.api as smf\n",
    "from statsmodels.graphics.gofplots import ProbPlot\n",
    "from scipy import stats \n",
    "import imblearn\n",
    "\n",
    "plt.style.use('seaborn') \n",
    "\n",
    "# Deal with annoying warnings\n",
    "import warnings\n",
    "warnings.simplefilter(action='ignore', category=FutureWarning)\n",
    "\n",
    "# sklearn stuff\n",
    "from sklearn import ensemble\n",
    "from sklearn import model_selection\n",
    "from sklearn import metrics\n",
    "from sklearn.preprocessing import MinMaxScaler, StandardScaler\n",
    "from sklearn import feature_selection\n",
    "from sklearn import linear_model\n",
    "from sklearn.decomposition import PCA\n",
    "from sklearn.ensemble import RandomForestClassifier\n",
    "from sklearn.ensemble import RandomForestRegressor\n",
    "\n",
    "from imblearn import over_sampling\n",
    "from imblearn import under_sampling\n",
    "from imblearn import pipeline"
   ]
  },
  {
   "cell_type": "markdown",
   "metadata": {},
   "source": [
    "## Load Data"
   ]
  },
  {
   "cell_type": "code",
   "execution_count": 2,
   "metadata": {},
   "outputs": [
    {
     "name": "stdout",
     "output_type": "stream",
     "text": [
      "Downloading sample_submission_v2.csv.zip to /Users/adamyang/Desktop/w207/w207-final-project\n",
      " 79%|█████████████████████████████▊        | 2.00M/2.55M [00:00<00:00, 5.36MB/s]\n",
      "100%|██████████████████████████████████████| 2.55M/2.55M [00:00<00:00, 6.86MB/s]\n",
      "Downloading test_v2.csv.zip to /Users/adamyang/Desktop/w207/w207-final-project\n",
      "100%|███████████████████████████████████████▉| 304M/304M [00:51<00:00, 6.04MB/s]\n",
      "100%|████████████████████████████████████████| 304M/304M [00:51<00:00, 6.24MB/s]\n",
      "Downloading train_v2.csv.zip to /Users/adamyang/Desktop/w207/w207-final-project\n",
      "100%|█████████████████████████████████████▉| 1.03G/1.03G [02:53<00:00, 6.32MB/s]\n",
      "100%|██████████████████████████████████████| 1.03G/1.03G [02:53<00:00, 6.39MB/s]\n"
     ]
    }
   ],
   "source": [
    "# Download the data through Kaggle API (iOS)\n",
    "! kaggle competitions download -c ga-customer-revenue-prediction"
   ]
  },
  {
   "cell_type": "markdown",
   "metadata": {},
   "source": [
    "You can either manually unzip the file or use the following code to unzip it."
   ]
  },
  {
   "cell_type": "code",
   "execution_count": 7,
   "metadata": {},
   "outputs": [
    {
     "name": "stdout",
     "output_type": "stream",
     "text": [
      "/bin/sh: apt-get: command not found\r\n"
     ]
    }
   ],
   "source": [
    "# First you have to make sure the unzip command is installed in your computer. (iOS)\n",
    "! apt-get install unzip"
   ]
  },
  {
   "cell_type": "code",
   "execution_count": 3,
   "metadata": {},
   "outputs": [
    {
     "name": "stdout",
     "output_type": "stream",
     "text": [
      "Archive:  train_v2.csv.zip\n",
      "  inflating: train_v2.csv            \n"
     ]
    }
   ],
   "source": [
    "# Next, use the unzip command to unzip the file. (iOS)\n",
    "! unzip train_v2.csv.zip"
   ]
  },
  {
   "cell_type": "code",
   "execution_count": 12,
   "metadata": {},
   "outputs": [],
   "source": [
    "#  IMPORTANT: Due to the formatting of fullVisitorId you must load \n",
    "# the Id's as strings in order for all Id's to be properly unique! \n",
    "df = pd.read_csv('train_v2.csv', dtype={'fullVisitorId': str})"
   ]
  },
  {
   "cell_type": "code",
   "execution_count": 3,
   "metadata": {},
   "outputs": [
    {
     "data": {
      "text/html": [
       "<div>\n",
       "<style scoped>\n",
       "    .dataframe tbody tr th:only-of-type {\n",
       "        vertical-align: middle;\n",
       "    }\n",
       "\n",
       "    .dataframe tbody tr th {\n",
       "        vertical-align: top;\n",
       "    }\n",
       "\n",
       "    .dataframe thead th {\n",
       "        text-align: right;\n",
       "    }\n",
       "</style>\n",
       "<table border=\"1\" class=\"dataframe\">\n",
       "  <thead>\n",
       "    <tr style=\"text-align: right;\">\n",
       "      <th></th>\n",
       "      <th>channelGrouping</th>\n",
       "      <th>customDimensions</th>\n",
       "      <th>date</th>\n",
       "      <th>device</th>\n",
       "      <th>fullVisitorId</th>\n",
       "      <th>geoNetwork</th>\n",
       "      <th>hits</th>\n",
       "      <th>socialEngagementType</th>\n",
       "      <th>totals</th>\n",
       "      <th>trafficSource</th>\n",
       "      <th>visitId</th>\n",
       "      <th>visitNumber</th>\n",
       "      <th>visitStartTime</th>\n",
       "    </tr>\n",
       "  </thead>\n",
       "  <tbody>\n",
       "    <tr>\n",
       "      <th>0</th>\n",
       "      <td>Organic Search</td>\n",
       "      <td>[{'index': '4', 'value': 'EMEA'}]</td>\n",
       "      <td>20171016</td>\n",
       "      <td>{\"browser\": \"Firefox\", \"browserVersion\": \"not ...</td>\n",
       "      <td>3162355547410993243</td>\n",
       "      <td>{\"continent\": \"Europe\", \"subContinent\": \"Weste...</td>\n",
       "      <td>[{'hitNumber': '1', 'time': '0', 'hour': '17',...</td>\n",
       "      <td>Not Socially Engaged</td>\n",
       "      <td>{\"visits\": \"1\", \"hits\": \"1\", \"pageviews\": \"1\",...</td>\n",
       "      <td>{\"campaign\": \"(not set)\", \"source\": \"google\", ...</td>\n",
       "      <td>1508198450</td>\n",
       "      <td>1</td>\n",
       "      <td>1508198450</td>\n",
       "    </tr>\n",
       "    <tr>\n",
       "      <th>1</th>\n",
       "      <td>Referral</td>\n",
       "      <td>[{'index': '4', 'value': 'North America'}]</td>\n",
       "      <td>20171016</td>\n",
       "      <td>{\"browser\": \"Chrome\", \"browserVersion\": \"not a...</td>\n",
       "      <td>8934116514970143966</td>\n",
       "      <td>{\"continent\": \"Americas\", \"subContinent\": \"Nor...</td>\n",
       "      <td>[{'hitNumber': '1', 'time': '0', 'hour': '10',...</td>\n",
       "      <td>Not Socially Engaged</td>\n",
       "      <td>{\"visits\": \"1\", \"hits\": \"2\", \"pageviews\": \"2\",...</td>\n",
       "      <td>{\"referralPath\": \"/a/google.com/transportation...</td>\n",
       "      <td>1508176307</td>\n",
       "      <td>6</td>\n",
       "      <td>1508176307</td>\n",
       "    </tr>\n",
       "    <tr>\n",
       "      <th>2</th>\n",
       "      <td>Direct</td>\n",
       "      <td>[{'index': '4', 'value': 'North America'}]</td>\n",
       "      <td>20171016</td>\n",
       "      <td>{\"browser\": \"Chrome\", \"browserVersion\": \"not a...</td>\n",
       "      <td>7992466427990357681</td>\n",
       "      <td>{\"continent\": \"Americas\", \"subContinent\": \"Nor...</td>\n",
       "      <td>[{'hitNumber': '1', 'time': '0', 'hour': '17',...</td>\n",
       "      <td>Not Socially Engaged</td>\n",
       "      <td>{\"visits\": \"1\", \"hits\": \"2\", \"pageviews\": \"2\",...</td>\n",
       "      <td>{\"campaign\": \"(not set)\", \"source\": \"(direct)\"...</td>\n",
       "      <td>1508201613</td>\n",
       "      <td>1</td>\n",
       "      <td>1508201613</td>\n",
       "    </tr>\n",
       "    <tr>\n",
       "      <th>3</th>\n",
       "      <td>Organic Search</td>\n",
       "      <td>[{'index': '4', 'value': 'EMEA'}]</td>\n",
       "      <td>20171016</td>\n",
       "      <td>{\"browser\": \"Chrome\", \"browserVersion\": \"not a...</td>\n",
       "      <td>9075655783635761930</td>\n",
       "      <td>{\"continent\": \"Asia\", \"subContinent\": \"Western...</td>\n",
       "      <td>[{'hitNumber': '1', 'time': '0', 'hour': '9', ...</td>\n",
       "      <td>Not Socially Engaged</td>\n",
       "      <td>{\"visits\": \"1\", \"hits\": \"2\", \"pageviews\": \"2\",...</td>\n",
       "      <td>{\"campaign\": \"(not set)\", \"source\": \"google\", ...</td>\n",
       "      <td>1508169851</td>\n",
       "      <td>1</td>\n",
       "      <td>1508169851</td>\n",
       "    </tr>\n",
       "    <tr>\n",
       "      <th>4</th>\n",
       "      <td>Organic Search</td>\n",
       "      <td>[{'index': '4', 'value': 'Central America'}]</td>\n",
       "      <td>20171016</td>\n",
       "      <td>{\"browser\": \"Chrome\", \"browserVersion\": \"not a...</td>\n",
       "      <td>6960673291025684308</td>\n",
       "      <td>{\"continent\": \"Americas\", \"subContinent\": \"Cen...</td>\n",
       "      <td>[{'hitNumber': '1', 'time': '0', 'hour': '14',...</td>\n",
       "      <td>Not Socially Engaged</td>\n",
       "      <td>{\"visits\": \"1\", \"hits\": \"2\", \"pageviews\": \"2\",...</td>\n",
       "      <td>{\"campaign\": \"(not set)\", \"source\": \"google\", ...</td>\n",
       "      <td>1508190552</td>\n",
       "      <td>1</td>\n",
       "      <td>1508190552</td>\n",
       "    </tr>\n",
       "  </tbody>\n",
       "</table>\n",
       "</div>"
      ],
      "text/plain": [
       "  channelGrouping                              customDimensions      date  \\\n",
       "0  Organic Search             [{'index': '4', 'value': 'EMEA'}]  20171016   \n",
       "1        Referral    [{'index': '4', 'value': 'North America'}]  20171016   \n",
       "2          Direct    [{'index': '4', 'value': 'North America'}]  20171016   \n",
       "3  Organic Search             [{'index': '4', 'value': 'EMEA'}]  20171016   \n",
       "4  Organic Search  [{'index': '4', 'value': 'Central America'}]  20171016   \n",
       "\n",
       "                                              device        fullVisitorId  \\\n",
       "0  {\"browser\": \"Firefox\", \"browserVersion\": \"not ...  3162355547410993243   \n",
       "1  {\"browser\": \"Chrome\", \"browserVersion\": \"not a...  8934116514970143966   \n",
       "2  {\"browser\": \"Chrome\", \"browserVersion\": \"not a...  7992466427990357681   \n",
       "3  {\"browser\": \"Chrome\", \"browserVersion\": \"not a...  9075655783635761930   \n",
       "4  {\"browser\": \"Chrome\", \"browserVersion\": \"not a...  6960673291025684308   \n",
       "\n",
       "                                          geoNetwork  \\\n",
       "0  {\"continent\": \"Europe\", \"subContinent\": \"Weste...   \n",
       "1  {\"continent\": \"Americas\", \"subContinent\": \"Nor...   \n",
       "2  {\"continent\": \"Americas\", \"subContinent\": \"Nor...   \n",
       "3  {\"continent\": \"Asia\", \"subContinent\": \"Western...   \n",
       "4  {\"continent\": \"Americas\", \"subContinent\": \"Cen...   \n",
       "\n",
       "                                                hits  socialEngagementType  \\\n",
       "0  [{'hitNumber': '1', 'time': '0', 'hour': '17',...  Not Socially Engaged   \n",
       "1  [{'hitNumber': '1', 'time': '0', 'hour': '10',...  Not Socially Engaged   \n",
       "2  [{'hitNumber': '1', 'time': '0', 'hour': '17',...  Not Socially Engaged   \n",
       "3  [{'hitNumber': '1', 'time': '0', 'hour': '9', ...  Not Socially Engaged   \n",
       "4  [{'hitNumber': '1', 'time': '0', 'hour': '14',...  Not Socially Engaged   \n",
       "\n",
       "                                              totals  \\\n",
       "0  {\"visits\": \"1\", \"hits\": \"1\", \"pageviews\": \"1\",...   \n",
       "1  {\"visits\": \"1\", \"hits\": \"2\", \"pageviews\": \"2\",...   \n",
       "2  {\"visits\": \"1\", \"hits\": \"2\", \"pageviews\": \"2\",...   \n",
       "3  {\"visits\": \"1\", \"hits\": \"2\", \"pageviews\": \"2\",...   \n",
       "4  {\"visits\": \"1\", \"hits\": \"2\", \"pageviews\": \"2\",...   \n",
       "\n",
       "                                       trafficSource     visitId  visitNumber  \\\n",
       "0  {\"campaign\": \"(not set)\", \"source\": \"google\", ...  1508198450            1   \n",
       "1  {\"referralPath\": \"/a/google.com/transportation...  1508176307            6   \n",
       "2  {\"campaign\": \"(not set)\", \"source\": \"(direct)\"...  1508201613            1   \n",
       "3  {\"campaign\": \"(not set)\", \"source\": \"google\", ...  1508169851            1   \n",
       "4  {\"campaign\": \"(not set)\", \"source\": \"google\", ...  1508190552            1   \n",
       "\n",
       "   visitStartTime  \n",
       "0      1508198450  \n",
       "1      1508176307  \n",
       "2      1508201613  \n",
       "3      1508169851  \n",
       "4      1508190552  "
      ]
     },
     "execution_count": 3,
     "metadata": {},
     "output_type": "execute_result"
    }
   ],
   "source": [
    "# Take a look at our data\n",
    "df.head(5)"
   ]
  },
  {
   "cell_type": "markdown",
   "metadata": {},
   "source": [
    "As shown above, the raw data we are working with is very messy. There are embedded dictionaries within many of the columns such as the `device` and `geoNetwork` columns. Other columns such as `hits` and `customDimensions` even have a list of columns embedded within. Therefore, we will have to do a lot of data wranglling to clean up this data set and make it easier to train with. Furthermore, we will have to pull out the `transactionRevenue` parameter from the `totals` column in order to calculate the `predictedLogRevenue` that we will use as our training label. Furthermore, we will have to aggregate the data by their `fullVisitorId` so that we can train the data per each visitor rather than each transaction."
   ]
  },
  {
   "cell_type": "markdown",
   "metadata": {},
   "source": [
    "## Data Wrangling"
   ]
  },
  {
   "cell_type": "markdown",
   "metadata": {},
   "source": [
    "### Creating a Smaller Training Set"
   ]
  },
  {
   "cell_type": "markdown",
   "metadata": {},
   "source": [
    "The traning data set that we pullled from Kaggle consists of 1,708,337 rows of transactions which is about 25GB of data. For the sake of faster training and reducing the stress on our computers, we will plan on randomly pulling 10% of the unique `fullVisitorIds` as our training set. We will call this smaller training set `train_simple`."
   ]
  },
  {
   "cell_type": "code",
   "execution_count": 13,
   "metadata": {},
   "outputs": [],
   "source": [
    "# Find all of the unique fullVisitorId from the df and store it into visitor_id_list\n",
    "visitor_id_list = pd.Series(df.fullVisitorId.unique())\n",
    "# Update the visitor_id_list by randomly sampling 10% of the unique fullVisitorId from the list\n",
    "# The random seed is set to 207 in honor of this class so that our data doesn't change.\n",
    "visitor_id_list = visitor_id_list.sample(n=int(0.10 * len(visitor_id_list)), random_state=207)\n",
    "\n",
    "# Create train_simple that holds only 10% of the unique fullVisitorIds\n",
    "train_simple = df[df.fullVisitorId.isin(visitor_id_list)].copy().reset_index()"
   ]
  },
  {
   "cell_type": "markdown",
   "metadata": {},
   "source": [
    "### Data Cleaning"
   ]
  },
  {
   "cell_type": "markdown",
   "metadata": {},
   "source": [
    "The `device`, `geoNetwork`, `totals`, and `trafficSource` columns in our data frame are in a json format. We will parse through these columns and transform each key into a column of its own."
   ]
  },
  {
   "cell_type": "code",
   "execution_count": 14,
   "metadata": {},
   "outputs": [],
   "source": [
    "# Parse json columns and \n",
    "json_cols = ['device', 'geoNetwork', 'totals', 'trafficSource']\n",
    "\n",
    "for col in json_cols:\n",
    "    train_simple = train_simple.join(train_simple\n",
    "                                     .pop(col)\n",
    "                                     .apply(lambda x: pd.Series(json.loads(x))),\n",
    "                                     rsuffix=str('_'+col))\n",
    "# Delete the \"index\" column because it is the original index from the training set we sampled from.\n",
    "# This shouldn't be relevant for figuring out the revenue contributions.\n",
    "del train_simple['index']"
   ]
  },
  {
   "cell_type": "code",
   "execution_count": 6,
   "metadata": {},
   "outputs": [
    {
     "data": {
      "text/html": [
       "<div>\n",
       "<style scoped>\n",
       "    .dataframe tbody tr th:only-of-type {\n",
       "        vertical-align: middle;\n",
       "    }\n",
       "\n",
       "    .dataframe tbody tr th {\n",
       "        vertical-align: top;\n",
       "    }\n",
       "\n",
       "    .dataframe thead th {\n",
       "        text-align: right;\n",
       "    }\n",
       "</style>\n",
       "<table border=\"1\" class=\"dataframe\">\n",
       "  <thead>\n",
       "    <tr style=\"text-align: right;\">\n",
       "      <th></th>\n",
       "      <th>channelGrouping</th>\n",
       "      <th>customDimensions</th>\n",
       "      <th>date</th>\n",
       "      <th>fullVisitorId</th>\n",
       "      <th>hits</th>\n",
       "      <th>socialEngagementType</th>\n",
       "      <th>visitId</th>\n",
       "      <th>visitNumber</th>\n",
       "      <th>visitStartTime</th>\n",
       "      <th>browser</th>\n",
       "      <th>...</th>\n",
       "      <th>totalTransactionRevenue</th>\n",
       "      <th>bounces</th>\n",
       "      <th>campaign</th>\n",
       "      <th>source</th>\n",
       "      <th>medium</th>\n",
       "      <th>adwordsClickInfo</th>\n",
       "      <th>isTrueDirect</th>\n",
       "      <th>referralPath</th>\n",
       "      <th>keyword</th>\n",
       "      <th>adContent</th>\n",
       "    </tr>\n",
       "  </thead>\n",
       "  <tbody>\n",
       "    <tr>\n",
       "      <th>0</th>\n",
       "      <td>Direct</td>\n",
       "      <td>[{'index': '4', 'value': 'North America'}]</td>\n",
       "      <td>20171016</td>\n",
       "      <td>7992466427990357681</td>\n",
       "      <td>[{'hitNumber': '1', 'time': '0', 'hour': '17',...</td>\n",
       "      <td>Not Socially Engaged</td>\n",
       "      <td>1508201613</td>\n",
       "      <td>1</td>\n",
       "      <td>1508201613</td>\n",
       "      <td>Chrome</td>\n",
       "      <td>...</td>\n",
       "      <td>NaN</td>\n",
       "      <td>NaN</td>\n",
       "      <td>(not set)</td>\n",
       "      <td>(direct)</td>\n",
       "      <td>(none)</td>\n",
       "      <td>{'criteriaParameters': 'not available in demo ...</td>\n",
       "      <td>True</td>\n",
       "      <td>NaN</td>\n",
       "      <td>NaN</td>\n",
       "      <td>NaN</td>\n",
       "    </tr>\n",
       "    <tr>\n",
       "      <th>1</th>\n",
       "      <td>Referral</td>\n",
       "      <td>[{'index': '4', 'value': 'APAC'}]</td>\n",
       "      <td>20171016</td>\n",
       "      <td>8603113812592998660</td>\n",
       "      <td>[{'hitNumber': '1', 'time': '0', 'hour': '19',...</td>\n",
       "      <td>Not Socially Engaged</td>\n",
       "      <td>1508206196</td>\n",
       "      <td>1</td>\n",
       "      <td>1508206196</td>\n",
       "      <td>Chrome</td>\n",
       "      <td>...</td>\n",
       "      <td>NaN</td>\n",
       "      <td>NaN</td>\n",
       "      <td>(not set)</td>\n",
       "      <td>blog.golang.org</td>\n",
       "      <td>referral</td>\n",
       "      <td>{'criteriaParameters': 'not available in demo ...</td>\n",
       "      <td>NaN</td>\n",
       "      <td>/gopher</td>\n",
       "      <td>NaN</td>\n",
       "      <td>NaN</td>\n",
       "    </tr>\n",
       "    <tr>\n",
       "      <th>2</th>\n",
       "      <td>Referral</td>\n",
       "      <td>[{'index': '4', 'value': 'North America'}]</td>\n",
       "      <td>20171016</td>\n",
       "      <td>0303004412542706127</td>\n",
       "      <td>[{'hitNumber': '1', 'time': '0', 'hour': '13',...</td>\n",
       "      <td>Not Socially Engaged</td>\n",
       "      <td>1508184007</td>\n",
       "      <td>1</td>\n",
       "      <td>1508184007</td>\n",
       "      <td>Chrome</td>\n",
       "      <td>...</td>\n",
       "      <td>NaN</td>\n",
       "      <td>NaN</td>\n",
       "      <td>(not set)</td>\n",
       "      <td>(direct)</td>\n",
       "      <td>(none)</td>\n",
       "      <td>{'criteriaParameters': 'not available in demo ...</td>\n",
       "      <td>NaN</td>\n",
       "      <td>/</td>\n",
       "      <td>NaN</td>\n",
       "      <td>NaN</td>\n",
       "    </tr>\n",
       "    <tr>\n",
       "      <th>3</th>\n",
       "      <td>Organic Search</td>\n",
       "      <td>[{'index': '4', 'value': 'APAC'}]</td>\n",
       "      <td>20171016</td>\n",
       "      <td>7430057487980759848</td>\n",
       "      <td>[{'hitNumber': '1', 'time': '0', 'hour': '14',...</td>\n",
       "      <td>Not Socially Engaged</td>\n",
       "      <td>1508188980</td>\n",
       "      <td>1</td>\n",
       "      <td>1508188980</td>\n",
       "      <td>Chrome</td>\n",
       "      <td>...</td>\n",
       "      <td>NaN</td>\n",
       "      <td>NaN</td>\n",
       "      <td>(not set)</td>\n",
       "      <td>google</td>\n",
       "      <td>organic</td>\n",
       "      <td>{'criteriaParameters': 'not available in demo ...</td>\n",
       "      <td>NaN</td>\n",
       "      <td>NaN</td>\n",
       "      <td>(not provided)</td>\n",
       "      <td>NaN</td>\n",
       "    </tr>\n",
       "    <tr>\n",
       "      <th>4</th>\n",
       "      <td>Paid Search</td>\n",
       "      <td>[{'index': '4', 'value': 'North America'}]</td>\n",
       "      <td>20171016</td>\n",
       "      <td>9313911943042504128</td>\n",
       "      <td>[{'hitNumber': '1', 'time': '0', 'hour': '16',...</td>\n",
       "      <td>Not Socially Engaged</td>\n",
       "      <td>1508198332</td>\n",
       "      <td>1</td>\n",
       "      <td>1508198332</td>\n",
       "      <td>Chrome</td>\n",
       "      <td>...</td>\n",
       "      <td>NaN</td>\n",
       "      <td>NaN</td>\n",
       "      <td>AW - Dynamic Search Ads Whole Site</td>\n",
       "      <td>google</td>\n",
       "      <td>cpc</td>\n",
       "      <td>{'page': '1', 'slot': 'Top', 'criteriaParamete...</td>\n",
       "      <td>NaN</td>\n",
       "      <td>NaN</td>\n",
       "      <td>1hZbAqLCbjwfgOH7</td>\n",
       "      <td>NaN</td>\n",
       "    </tr>\n",
       "  </tbody>\n",
       "</table>\n",
       "<p>5 rows × 54 columns</p>\n",
       "</div>"
      ],
      "text/plain": [
       "  channelGrouping                            customDimensions      date  \\\n",
       "0          Direct  [{'index': '4', 'value': 'North America'}]  20171016   \n",
       "1        Referral           [{'index': '4', 'value': 'APAC'}]  20171016   \n",
       "2        Referral  [{'index': '4', 'value': 'North America'}]  20171016   \n",
       "3  Organic Search           [{'index': '4', 'value': 'APAC'}]  20171016   \n",
       "4     Paid Search  [{'index': '4', 'value': 'North America'}]  20171016   \n",
       "\n",
       "         fullVisitorId                                               hits  \\\n",
       "0  7992466427990357681  [{'hitNumber': '1', 'time': '0', 'hour': '17',...   \n",
       "1  8603113812592998660  [{'hitNumber': '1', 'time': '0', 'hour': '19',...   \n",
       "2  0303004412542706127  [{'hitNumber': '1', 'time': '0', 'hour': '13',...   \n",
       "3  7430057487980759848  [{'hitNumber': '1', 'time': '0', 'hour': '14',...   \n",
       "4  9313911943042504128  [{'hitNumber': '1', 'time': '0', 'hour': '16',...   \n",
       "\n",
       "   socialEngagementType     visitId  visitNumber  visitStartTime browser  \\\n",
       "0  Not Socially Engaged  1508201613            1      1508201613  Chrome   \n",
       "1  Not Socially Engaged  1508206196            1      1508206196  Chrome   \n",
       "2  Not Socially Engaged  1508184007            1      1508184007  Chrome   \n",
       "3  Not Socially Engaged  1508188980            1      1508188980  Chrome   \n",
       "4  Not Socially Engaged  1508198332            1      1508198332  Chrome   \n",
       "\n",
       "     ...    totalTransactionRevenue bounces  \\\n",
       "0    ...                        NaN     NaN   \n",
       "1    ...                        NaN     NaN   \n",
       "2    ...                        NaN     NaN   \n",
       "3    ...                        NaN     NaN   \n",
       "4    ...                        NaN     NaN   \n",
       "\n",
       "                             campaign           source    medium  \\\n",
       "0                           (not set)         (direct)    (none)   \n",
       "1                           (not set)  blog.golang.org  referral   \n",
       "2                           (not set)         (direct)    (none)   \n",
       "3                           (not set)           google   organic   \n",
       "4  AW - Dynamic Search Ads Whole Site           google       cpc   \n",
       "\n",
       "                                    adwordsClickInfo isTrueDirect  \\\n",
       "0  {'criteriaParameters': 'not available in demo ...         True   \n",
       "1  {'criteriaParameters': 'not available in demo ...          NaN   \n",
       "2  {'criteriaParameters': 'not available in demo ...          NaN   \n",
       "3  {'criteriaParameters': 'not available in demo ...          NaN   \n",
       "4  {'page': '1', 'slot': 'Top', 'criteriaParamete...          NaN   \n",
       "\n",
       "  referralPath           keyword adContent  \n",
       "0          NaN               NaN       NaN  \n",
       "1      /gopher               NaN       NaN  \n",
       "2            /               NaN       NaN  \n",
       "3          NaN    (not provided)       NaN  \n",
       "4          NaN  1hZbAqLCbjwfgOH7       NaN  \n",
       "\n",
       "[5 rows x 54 columns]"
      ]
     },
     "execution_count": 6,
     "metadata": {},
     "output_type": "execute_result"
    }
   ],
   "source": [
    "# Take a look at our new train_simple dataframe\n",
    "train_simple.head(5)"
   ]
  },
  {
   "cell_type": "code",
   "execution_count": 15,
   "metadata": {},
   "outputs": [],
   "source": [
    "# For quicker loading times we will write train_simple into a csv file\n",
    "train_simple.to_csv('train_simple.csv', index = False)"
   ]
  },
  {
   "cell_type": "code",
   "execution_count": 2,
   "metadata": {},
   "outputs": [],
   "source": [
    "# For quicker loading times, you can directly load the train_simple.csv file\n",
    "train_simple = pd.read_csv('train_simple.csv', dtype={'fullVisitorId': str})"
   ]
  },
  {
   "cell_type": "markdown",
   "metadata": {},
   "source": [
    "**The Messy `hits` Column**\n",
    "\n",
    "First we are going to address the `hits` column. Below we will show you an example of the first entry for this parameter. We split out the string as a list so that it may be easier to view. It is immediately obvious that the values stored in each row of the `hits` column, is a long mess of a string. The outermost structure is a list that holds dictionary objects. Each dictionary object will represent a \"hit\" or a \"page visit\" by the user during this visit to the Google store. In the example below, you can see that there are 2 of these dictionary objects for 2 separate hits. These \"hits\" dictionaries also hold various meta data like the time of the page visit, the referer url, and whether this \"hit\" is the entrence into the Google online merchandise store. On top of all that, you will see that there is a key called \"page\" which holds a value of another dictionary. This dictionary embedded within the \"hit\" dictionary holds all the information about the webpage that user is looking at such as the pageTitle, the searchKeyword, and what kind of merchandise they're showing on the page."
   ]
  },
  {
   "cell_type": "code",
   "execution_count": 16,
   "metadata": {},
   "outputs": [
    {
     "data": {
      "text/plain": [
       "[\"[{'hitNumber': '1'\",\n",
       " \" 'time': '0'\",\n",
       " \" 'hour': '17'\",\n",
       " \" 'minute': '53'\",\n",
       " \" 'isInteraction': True\",\n",
       " \" 'isEntrance': True\",\n",
       " \" 'referer': 'https://www.googlemerchandisestore.com/'\",\n",
       " \" 'page': {'pagePath': '/home'\",\n",
       " \" 'hostname': 'shop.googlemerchandisestore.com'\",\n",
       " \" 'pageTitle': 'Home'\",\n",
       " \" 'pagePathLevel1': '/home'\",\n",
       " \" 'pagePathLevel2': ''\",\n",
       " \" 'pagePathLevel3': ''\",\n",
       " \" 'pagePathLevel4': ''}\",\n",
       " \" 'appInfo': {'screenName': 'shop.googlemerchandisestore.com/home'\",\n",
       " \" 'landingScreenName': 'shop.googlemerchandisestore.com/home'\",\n",
       " \" 'exitScreenName': 'shop.googlemerchandisestore.com/google+redesign/apparel/kids'\",\n",
       " \" 'screenDepth': '0'}\",\n",
       " \" 'exceptionInfo': {'isFatal': True}\",\n",
       " \" 'product': []\",\n",
       " \" 'promotion': [{'promoId': 'Apparel Row 1'\",\n",
       " \" 'promoName': 'Apparel'\",\n",
       " \" 'promoCreative': 'home_main_link_apparel.jpg'\",\n",
       " \" 'promoPosition': 'Row 1'}\",\n",
       " \" {'promoId': 'Backpacks Row 2 Combo'\",\n",
       " \" 'promoName': 'Backpacks'\",\n",
       " \" 'promoCreative': 'home_bags_google_2.jpg'\",\n",
       " \" 'promoPosition': 'Row 2 Combo'}\",\n",
       " \" {'promoId': 'Mens T-Shirts Row 3-1'\",\n",
       " \" 'promoName': 'Mens T-Shirts'\",\n",
       " \" 'promoCreative': 'mens-tshirts.jpg'\",\n",
       " \" 'promoPosition': 'Row 3-1'}\",\n",
       " \" {'promoId': 'Womens T-Shirts Row 3-2'\",\n",
       " \" 'promoName': 'Womens T-Shirts'\",\n",
       " \" 'promoCreative': 'womens-tshirts.jpg'\",\n",
       " \" 'promoPosition': 'Row 3-2'}\",\n",
       " \" {'promoId': 'Office Row 5 Color Combo'\",\n",
       " \" 'promoName': 'Office'\",\n",
       " \" 'promoCreative': 'green_row_link_to_office.jpg'\",\n",
       " \" 'promoPosition': 'Row 5 Color Combo'}\",\n",
       " \" {'promoId': 'Drinkware Row 4 Color Combo'\",\n",
       " \" 'promoName': 'Drinkware'\",\n",
       " \" 'promoCreative': 'red_row_hydrate.jpg'\",\n",
       " \" 'promoPosition': 'Row 4 Color Combo'}\",\n",
       " \" {'promoId': 'Google Brand Row 7-1'\",\n",
       " \" 'promoName': 'Google Brand'\",\n",
       " \" 'promoCreative': 'home_lower_google_500.jpg'\",\n",
       " \" 'promoPosition': 'Brand Row 7-1'}\",\n",
       " \" {'promoId': 'YouTube Brand Row 7-2'\",\n",
       " \" 'promoName': 'YouTube Brand'\",\n",
       " \" 'promoCreative': 'home_lower_youtube_500.jpg'\",\n",
       " \" 'promoPosition': 'Brand Row 7-2'}\",\n",
       " \" {'promoId': 'Android Brand Row 7-3'\",\n",
       " \" 'promoName': 'Andriod Brand'\",\n",
       " \" 'promoCreative': 'home_lower_android_500.jpg'\",\n",
       " \" 'promoPosition': 'Brand Row 7-3'}]\",\n",
       " \" 'promotionActionInfo': {'promoIsView': True}\",\n",
       " \" 'eCommerceAction': {'action_type': '0'\",\n",
       " \" 'step': '1'}\",\n",
       " \" 'experiment': []\",\n",
       " \" 'customVariables': []\",\n",
       " \" 'customDimensions': []\",\n",
       " \" 'customMetrics': []\",\n",
       " \" 'type': 'PAGE'\",\n",
       " \" 'social': {'socialNetwork': '(not set)'\",\n",
       " \" 'hasSocialSourceReferral': 'No'\",\n",
       " \" 'socialInteractionNetworkAction': ' : '}\",\n",
       " \" 'contentGroup': {'contentGroup1': '(not set)'\",\n",
       " \" 'contentGroup2': '(not set)'\",\n",
       " \" 'contentGroup3': '(not set)'\",\n",
       " \" 'contentGroup4': '(not set)'\",\n",
       " \" 'contentGroup5': '(not set)'\",\n",
       " \" 'previousContentGroup1': '(entrance)'\",\n",
       " \" 'previousContentGroup2': '(entrance)'\",\n",
       " \" 'previousContentGroup3': '(entrance)'\",\n",
       " \" 'previousContentGroup4': '(entrance)'\",\n",
       " \" 'previousContentGroup5': '(entrance)'}\",\n",
       " \" 'dataSource': 'web'\",\n",
       " \" 'publisher_infos': []}\",\n",
       " \" {'hitNumber': '2'\",\n",
       " \" 'time': '38153'\",\n",
       " \" 'hour': '17'\",\n",
       " \" 'minute': '54'\",\n",
       " \" 'isInteraction': True\",\n",
       " \" 'isExit': True\",\n",
       " \" 'page': {'pagePath': '/google+redesign/apparel/kids'\",\n",
       " \" 'hostname': 'shop.googlemerchandisestore.com'\",\n",
       " ' \\'pageTitle\\': \"Kids\\' Apparel | Google Merchandise Store\"',\n",
       " \" 'pagePathLevel1': '/google+redesign/'\",\n",
       " \" 'pagePathLevel2': '/apparel/'\",\n",
       " \" 'pagePathLevel3': '/kids'\",\n",
       " \" 'pagePathLevel4': ''}\",\n",
       " \" 'transaction': {'currencyCode': 'USD'}\",\n",
       " \" 'item': {'currencyCode': 'USD'}\",\n",
       " \" 'appInfo': {'screenName': 'shop.googlemerchandisestore.com/google+redesign/apparel/kids'\",\n",
       " \" 'landingScreenName': 'shop.googlemerchandisestore.com/home'\",\n",
       " \" 'exitScreenName': 'shop.googlemerchandisestore.com/google+redesign/apparel/kids'\",\n",
       " \" 'screenDepth': '0'}\",\n",
       " \" 'exceptionInfo': {'isFatal': True}\",\n",
       " \" 'product': [{'productSKU': 'GGOEGAAX0651'\",\n",
       " \" 'v2ProductName': 'Google Toddler Short Sleeve Tee Red'\",\n",
       " ' \\'v2ProductCategory\\': \"Home/Apparel/Kid\\'s/\"',\n",
       " \" 'productVariant': '(not set)'\",\n",
       " \" 'productBrand': '(not set)'\",\n",
       " \" 'productPrice': '16990000'\",\n",
       " \" 'localProductPrice': '16990000'\",\n",
       " \" 'isImpression': True\",\n",
       " \" 'customDimensions': []\",\n",
       " \" 'customMetrics': []\",\n",
       " \" 'productListName': 'Category'\",\n",
       " \" 'productListPosition': '1'}\",\n",
       " \" {'productSKU': 'GGOEGAAX0680'\",\n",
       " \" 'v2ProductName': 'Google Youth Baseball Raglan Heather/Black'\",\n",
       " ' \\'v2ProductCategory\\': \"Home/Apparel/Kid\\'s/\"',\n",
       " \" 'productVariant': '(not set)'\",\n",
       " \" 'productBrand': '(not set)'\",\n",
       " \" 'productPrice': '24990000'\",\n",
       " \" 'localProductPrice': '24990000'\",\n",
       " \" 'isImpression': True\",\n",
       " \" 'customDimensions': []\",\n",
       " \" 'customMetrics': []\",\n",
       " \" 'productListName': 'Category'\",\n",
       " \" 'productListPosition': '2'}\",\n",
       " \" {'productSKU': 'GGOEGAAX0617'\",\n",
       " \" 'v2ProductName': 'Android Onesie Gold'\",\n",
       " ' \\'v2ProductCategory\\': \"Home/Apparel/Kid\\'s/\"',\n",
       " \" 'productVariant': '(not set)'\",\n",
       " \" 'productBrand': '(not set)'\",\n",
       " \" 'productPrice': '23990000'\",\n",
       " \" 'localProductPrice': '23990000'\",\n",
       " \" 'isImpression': True\",\n",
       " \" 'customDimensions': []\",\n",
       " \" 'customMetrics': []\",\n",
       " \" 'productListName': 'Category'\",\n",
       " \" 'productListPosition': '3'}\",\n",
       " \" {'productSKU': 'GGOEGAAX0618'\",\n",
       " \" 'v2ProductName': 'Google Infant Short Sleeve Tee Red'\",\n",
       " ' \\'v2ProductCategory\\': \"Home/Apparel/Kid\\'s/\"',\n",
       " \" 'productVariant': '(not set)'\",\n",
       " \" 'productBrand': '(not set)'\",\n",
       " \" 'productPrice': '16990000'\",\n",
       " \" 'localProductPrice': '16990000'\",\n",
       " \" 'isImpression': True\",\n",
       " \" 'customDimensions': []\",\n",
       " \" 'customMetrics': []\",\n",
       " \" 'productListName': 'Category'\",\n",
       " \" 'productListPosition': '4'}\",\n",
       " \" {'productSKU': 'GGOEGAAX0620'\",\n",
       " \" 'v2ProductName': 'Google Infant Short Sleeve Tee Green'\",\n",
       " ' \\'v2ProductCategory\\': \"Home/Apparel/Kid\\'s/\"',\n",
       " \" 'productVariant': '(not set)'\",\n",
       " \" 'productBrand': '(not set)'\",\n",
       " \" 'productPrice': '16990000'\",\n",
       " \" 'localProductPrice': '16990000'\",\n",
       " \" 'isImpression': True\",\n",
       " \" 'customDimensions': []\",\n",
       " \" 'customMetrics': []\",\n",
       " \" 'productListName': 'Category'\",\n",
       " \" 'productListPosition': '5'}\",\n",
       " \" {'productSKU': 'GGOEGAAX0625'\",\n",
       " \" 'v2ProductName': 'Android Infant Short Sleeve Tee Pewter'\",\n",
       " ' \\'v2ProductCategory\\': \"Home/Apparel/Kid\\'s/\"',\n",
       " \" 'productVariant': '(not set)'\",\n",
       " \" 'productBrand': '(not set)'\",\n",
       " \" 'productPrice': '16990000'\",\n",
       " \" 'localProductPrice': '16990000'\",\n",
       " \" 'isImpression': True\",\n",
       " \" 'customDimensions': []\",\n",
       " \" 'customMetrics': []\",\n",
       " \" 'productListName': 'Category'\",\n",
       " \" 'productListPosition': '6'}\",\n",
       " \" {'productSKU': 'GGOEGAAX0682'\",\n",
       " \" 'v2ProductName': 'Google Youth Short Sleeve Tee Red'\",\n",
       " ' \\'v2ProductCategory\\': \"Home/Apparel/Kid\\'s/\"',\n",
       " \" 'productVariant': '(not set)'\",\n",
       " \" 'productBrand': '(not set)'\",\n",
       " \" 'productPrice': '18990000'\",\n",
       " \" 'localProductPrice': '18990000'\",\n",
       " \" 'isImpression': True\",\n",
       " \" 'customDimensions': []\",\n",
       " \" 'customMetrics': []\",\n",
       " \" 'productListName': 'Category'\",\n",
       " \" 'productListPosition': '7'}]\",\n",
       " \" 'promotion': []\",\n",
       " \" 'eCommerceAction': {'action_type': '0'\",\n",
       " \" 'step': '1'}\",\n",
       " \" 'experiment': []\",\n",
       " \" 'customVariables': []\",\n",
       " \" 'customDimensions': []\",\n",
       " \" 'customMetrics': []\",\n",
       " \" 'type': 'PAGE'\",\n",
       " \" 'social': {'socialNetwork': '(not set)'\",\n",
       " \" 'hasSocialSourceReferral': 'No'\",\n",
       " \" 'socialInteractionNetworkAction': ' : '}\",\n",
       " \" 'contentGroup': {'contentGroup1': '(not set)'\",\n",
       " \" 'contentGroup2': 'Apparel'\",\n",
       " \" 'contentGroup3': '(not set)'\",\n",
       " \" 'contentGroup4': '(not set)'\",\n",
       " \" 'contentGroup5': '(not set)'\",\n",
       " \" 'previousContentGroup1': '(not set)'\",\n",
       " \" 'previousContentGroup2': '(not set)'\",\n",
       " \" 'previousContentGroup3': '(not set)'\",\n",
       " \" 'previousContentGroup4': '(not set)'\",\n",
       " \" 'previousContentGroup5': '(not set)'\",\n",
       " \" 'contentGroupUniqueViews2': '1'}\",\n",
       " \" 'dataSource': 'web'\",\n",
       " \" 'publisher_infos': []}]\"]"
      ]
     },
     "execution_count": 16,
     "metadata": {},
     "output_type": "execute_result"
    }
   ],
   "source": [
    "train_simple.hits[0].split(',')"
   ]
  },
  {
   "cell_type": "markdown",
   "metadata": {},
   "source": [
    "A lot of the information in this `hits` column is summarized and stored in another column. For example, it might be informative to know how many hits the user has per visit to the Goolge Merchandise Store, and this information is stored in the `hits_totals` column. Therefore, since this column is so complicated and difficult to parse and pull out every peice of information, we decided that the summaries of this information stored in other columns is sufficient and pulling out the specific \"page visit\" information was worth the time and effort."
   ]
  },
  {
   "cell_type": "markdown",
   "metadata": {},
   "source": [
    "**Cleaning Up The Other Columns**"
   ]
  },
  {
   "cell_type": "markdown",
   "metadata": {},
   "source": [
    "In the other columns, we found some consistant problems with the data because of the way it was read in as a csv file:\n",
    "\n",
    "* There are a lot of NaN values and some of them should be replaced with False or 0.\n",
    "* Thre are also a handful of columns that do not contribute any information. They are noted to be excluded from our feature space.\n",
    "* Some of the data types of the columns are not what they should be. We changed them back to their proper data types."
   ]
  },
  {
   "cell_type": "code",
   "execution_count": 51,
   "metadata": {},
   "outputs": [],
   "source": [
    "# The values in this column includes a dictionary within a list\n",
    "# Such as [{'index': '4', 'value': 'North America'}]\n",
    "# We want to get rid of the [] brackets so we can treat it like a json\n",
    "train_simple.customDimensions = train_simple.customDimensions.str[1:-1]\n",
    "# There are certain rows in customDimensions that are empty\n",
    "# We need to fill them in with {} so our json method doesn't fail\n",
    "train_simple.customDimensions.replace('', '{}', inplace=True)\n",
    "# Now we will use the json method to pull each of the key-value pairs as columns\n",
    "train_simple = train_simple.join(train_simple\n",
    "                                 .pop('customDimensions')\n",
    "                                 .apply(lambda x: pd.Series(json.loads(json.dumps(ast.literal_eval(str(x)))))),\n",
    "                                 rsuffix=str('_'+'customDimensions'))\n",
    "# Remove the \"index\" column because it only holds the value of 4 for all rows\n",
    "train_simple = train_simple.drop(columns='index')\n",
    "# Renamve the \"value\" column to \"zone\" to be more descriptive\n",
    "train_simple.rename(columns={'value': 'zone'}, inplace=True)\n",
    "# Replace the nan values to \"NaN\" string to keep it consistent\n",
    "train_simple.zone.fillna('NaN', inplace=True)\n",
    "\n",
    "# Convert train_simple.date from interger to pandas timestamp object\n",
    "train_simple['date'] = pd.to_datetime(train_simple.date, format='%Y%m%d')\n",
    "\n",
    "# Convert posix time to readable date time\n",
    "train_simple['visitStartTime'] = pd.to_datetime(train_simple.visitStartTime, unit= \"s\")\n",
    "\n",
    "# adwordsClickInfo stores the key value pairs enclosed in a single quote (')\n",
    "# This code pulls out these key value pairs and puts them into the data set as new features\n",
    "train_simple = train_simple.join(train_simple\n",
    "                                 .pop('adwordsClickInfo')\n",
    "                                 .apply(lambda x: pd.Series(json.loads(json.dumps(ast.literal_eval(str(x)))))),\n",
    "                                 rsuffix=str('_'+'adwordsClickInfo'))\n",
    "\n",
    "# Some of our numeric columns are converted back into numeric object types\n",
    "train_simple['visitId'] = pd.to_numeric(train_simple.visitId)\n",
    "train_simple['visitNumber'] = pd.to_numeric(train_simple.visitNumber)\n",
    "train_simple['totalTransactionRevenue'] = pd.to_numeric(train_simple.totalTransactionRevenue)\n",
    "train_simple['hits_totals'] = pd.to_numeric(train_simple.hits_totals)\n",
    "train_simple['pageviews'] = pd.to_numeric(train_simple.pageviews)\n",
    "train_simple['timeOnSite'] = pd.to_numeric(train_simple.timeOnSite)\n",
    "train_simple['sessionQualityDim'] = pd.to_numeric(train_simple.sessionQualityDim)\n",
    "train_simple['page'] = pd.to_numeric(train_simple.page)\n",
    "\n",
    "# convert to numeric, and fill NaNs with 0s since this seems to be boolean\n",
    "train_simple['newVisits'] = pd.to_numeric(train_simple.newVisits)\n",
    "train_simple.newVisits.fillna(0, inplace=True)\n",
    "\n",
    "# Fill NaNs with 0s\n",
    "train_simple['bounces'] = pd.to_numeric(train_simple.bounces)\n",
    "train_simple.bounces.fillna(0, inplace=True)\n",
    "\n",
    "# Fill NaNs with 0s for visits where there are no transactions\n",
    "train_simple['transactions'] = pd.to_numeric(train_simple.transactions)\n",
    "train_simple.transactions.fillna(0, inplace=True)\n",
    "\n",
    "# Fill NaNs with 0s for totalTransactionRevenue since there are no purchases\n",
    "train_simple.totalTransactionRevenue.fillna(0, inplace=True)\n",
    "\n",
    "# Fill Nans with 0s\n",
    "train_simple.timeOnSite.fillna(0, inplace=True)\n",
    "\n",
    "# Fill NaNs with 0s\n",
    "train_simple.sessionQualityDim.fillna(0, inplace=True)\n",
    "\n",
    "# Fill Nans with 1\n",
    "train_simple.pageviews.fillna(0, inplace=True)\n",
    "\n",
    "# isVideoAd has either False or NaN values, we want to convert NaN to True\n",
    "train_simple.isVideoAd.fillna(1, inplace=True)\n",
    "train_simple['isVideoAd'] = pd.to_numeric(train_simple.isVideoAd)\n",
    "\n",
    "# Convert the NaN values in gclID to string type\n",
    "train_simple.gclId.fillna('unknownGclID', inplace=True)"
   ]
  },
  {
   "cell_type": "markdown",
   "metadata": {},
   "source": [
    "There are some features in the space that do not contribute any information. Therefore, we decided to remove them.\n",
    "\n",
    "**Columns to exclude from our feature space:**\n",
    "* `hits`: Removed because of unnecessary complexity\n",
    "* `visitId`: Unique identifier for each row, does not have predictive value\n",
    "* `socialEngagementType`: All values are \"Not Socially Engaged\"\n",
    "* `browserVersion`: data is not available in demo dataset\n",
    "* `browserSize`: data is not available in demo dataset\n",
    "* `operatingSystemVersion`: data is not available in demo dataset\n",
    "* `mobileDeviceBranding`: data is not available in demo dataset\n",
    "* `mobileDeviceModel`: data is not available in demo dataset\n",
    "* `mobileInputSelector`: data is not available in demo dataset\n",
    "* `mobileDeviceInfo`: data is not available in demo dataset\n",
    "* `mobileDeviceMarketingName`: data is not available in demo dataset\n",
    "* `flashVersion`: data is not available in demo dataset\n",
    "* `language`: data is not available in demo dataset\n",
    "* `screenColors`: data is not available in demo dataset\n",
    "* `screenResolution`: data is not available in demo dataset\n",
    "* `cityID`: data is not available in demo dataset\n",
    "* `latitude`: data is not available in demo dataset\n",
    "* `longitude`: data is not available in demo dataset\n",
    "* `networkLocation`: data is not available in demo dataset\n",
    "* `visits`: only contains 1s, does not provide any value\n",
    "* `transactionRevenue`: this is the old outcome variable\n",
    "* `criteriaParameters`: data is not available in demo dataset\n",
    "* `targetingCriteria`: this is just a bunch of empty dictionaries\n",
    "* `isMobile`: There is a feature called `deviceCategory` that gives the same information\n",
    "* `isTrueDirect`: Same information provided in the `source` feature\n",
    "* `gclId`: We do not this this is a valuable peice of information\n",
    "* `data`: Same information provided in the `visitStartTime` feature"
   ]
  },
  {
   "cell_type": "code",
   "execution_count": 52,
   "metadata": {},
   "outputs": [],
   "source": [
    "remove_list = ['hits', 'visitId', 'browserVersion', 'browserSize','operatingSystemVersion',\n",
    "               'mobileDeviceBranding', 'mobileDeviceModel', 'mobileInputSelector', 'mobileDeviceInfo',\n",
    "               'mobileDeviceMarketingName', 'flashVersion', 'language', 'screenColors', 'screenResolution',\n",
    "               'cityId', 'latitude', 'longitude', 'networkLocation', 'visits', 'transactionRevenue',\n",
    "               'criteriaParameters', 'targetingCriteria', 'socialEngagementType', 'isMobile', 'isTrueDirect',\n",
    "               'gclId','date']\n",
    "\n",
    "train_simple.drop(remove_list, axis=1, inplace=True)"
   ]
  },
  {
   "cell_type": "code",
   "execution_count": 5,
   "metadata": {},
   "outputs": [],
   "source": [
    "# For quicker loading times we will write train_simple into a csv file\n",
    "train_simple.to_csv('train_simple1.csv', index = False)"
   ]
  },
  {
   "cell_type": "code",
   "execution_count": 2,
   "metadata": {},
   "outputs": [],
   "source": [
    "# For quicker loading times, you can directly load the train_simple.csv file\n",
    "train_simple = pd.read_csv('train_simple1.csv', dtype={'fullVisitorId': str},\n",
    "                           parse_dates=['visitStartTime'], infer_datetime_format=True)"
   ]
  },
  {
   "cell_type": "markdown",
   "metadata": {},
   "source": [
    "### Feature Engineering"
   ]
  },
  {
   "cell_type": "markdown",
   "metadata": {},
   "source": [
    "#### One Hot Encode Categorical Features"
   ]
  },
  {
   "cell_type": "markdown",
   "metadata": {},
   "source": [
    "Now that our data set is clean, we will do some feature engineering. Many of our features are categorical so we decided to binarize them into new columns. For example, the `deviceCategory` feature can have \"mobile\", \"desktop\", and \"tablet\" values. We will create a separate column for each of these values, and they will contain either a 1 or a 0 depending on the particular row. We do this so that we can run our models."
   ]
  },
  {
   "cell_type": "code",
   "execution_count": 3,
   "metadata": {},
   "outputs": [],
   "source": [
    "train_clean = train_simple.copy()\n",
    "\n",
    "train_clean['visitDayOfWeek'] = train_clean.visitStartTime.dt.day_name()\n",
    "train_clean['visitHourOfDay'] = train_clean.visitStartTime.dt.hour\n",
    "train_clean['visitMonthofYear'] = train_clean.visitStartTime.dt.month_name()\n",
    "\n",
    "features_to_binarize = list(train_clean.columns[train_clean.dtypes == 'object'])\n",
    "features_to_binarize.remove('fullVisitorId')\n",
    "features_to_binarize.append('visitHourOfDay')\n",
    "features_to_binarize.append('visitNumber')\n",
    "features_to_binarize.append('page')\n",
    "\n",
    "for i in features_to_binarize:\n",
    "    train_clean = train_clean.join(pd.get_dummies(train_clean[i], prefix=i))\n",
    "    \n",
    "train_clean.drop(features_to_binarize, axis=1, inplace=True)\n",
    "train_clean.drop('visitStartTime', axis=1, inplace=True)"
   ]
  },
  {
   "cell_type": "markdown",
   "metadata": {},
   "source": [
    "## Models and Analysis"
   ]
  },
  {
   "cell_type": "markdown",
   "metadata": {},
   "source": [
    "### Classification Model"
   ]
  },
  {
   "cell_type": "markdown",
   "metadata": {},
   "source": [
    "We decided to approach this problem by predicting the `totalTransactionRevenue` value per visit to the online Google Merchandise Store instead of aggregating the rows by `fullVisitorId`. This is because we believe that it's important for us to understand the features that predict which visits to the store results in a purchase. As this can provide Google with actionable insights. The first thing we will do is to try and classify whether or not a purchase was made on a particular visit.\n",
    "\n",
    "Since we have a lot of binary features, and we need a classification model that is interpretable, we decided to use Decision Tree based models. In particular, Random Forests.\n",
    "\n",
    "In the classification model itself we will be using a feature selector first to select the important features that we want to use in the main model, because: \n",
    "* We want to reduce the number of features selected, but if we used PCA, it would have changed the binary features to no longer being 1s and 0s.\n",
    "2. We needed a smaller feature space in order to do the under and over sampling, because otherwise we would run out of memory due to how large our feature space is.\n",
    "\n",
    "The reason we are over sampling and under sampling is because the class we are trying to predict is a minority class (only 1.3% of the visits data that we have actually have purchases), and by over sampling and under sampling we found that we can improve our f1-score significantly (from 0.93 to 0.98)"
   ]
  },
  {
   "cell_type": "code",
   "execution_count": 7,
   "metadata": {},
   "outputs": [
    {
     "data": {
      "text/plain": [
       "RandomForestClassifier(bootstrap=True, class_weight=None, criterion='gini',\n",
       "            max_depth=10, max_features='auto', max_leaf_nodes=None,\n",
       "            min_impurity_decrease=0.0, min_impurity_split=None,\n",
       "            min_samples_leaf=1, min_samples_split=100,\n",
       "            min_weight_fraction_leaf=0.0, n_estimators=110, n_jobs=1,\n",
       "            oob_score=False, random_state=None, verbose=0, warm_start=True)"
      ]
     },
     "execution_count": 7,
     "metadata": {},
     "output_type": "execute_result"
    }
   ],
   "source": [
    "# WARNING: This block will take a few hours to run!\n",
    "X = train_clean.drop(['fullVisitorId', 'transactions', 'totalTransactionRevenue'], axis=1).copy()\n",
    "y = train_clean.totalTransactionRevenue > 0\n",
    "\n",
    "# split the data into train and test\n",
    "X_train, X_test, y_train, y_test =(model_selection.train_test_split(X, y, test_size = .25))\n",
    "\n",
    "# define classifier, over sampler, under sampler and feature selector to be used in pipeline\n",
    "clf = RandomForestClassifier()\n",
    "fsl = feature_selection.SelectFromModel(clf, prefit=False)\n",
    "osmpl = over_sampling.SMOTE(kind='regular')\n",
    "usmpl = under_sampling.EditedNearestNeighbours(return_indices=False)\n",
    "\n",
    "# create pipeline with the steps in the order that we want\n",
    "pipe = pipeline.Pipeline([('feature_selector', fsl),\n",
    "                          ('over_sampler', osmpl),\n",
    "                          ('under_sampler', usmpl),\n",
    "                          ('classifier', clf)])\n",
    "\n",
    "# define parameters to optimize for gridsearchcv\n",
    "parameters = dict(classifier__max_depth=[8, 9, 10],\n",
    "                  classifier__n_estimators=[100, 110, 120],\n",
    "                  classifier__min_samples_split=[50, 60, 70],\n",
    "                  classifier__warm_start=[True, False],\n",
    "                  classifier__bootstrap=[True, False])\n",
    "        \n",
    "grid_search = model_selection.GridSearchCV(pipe,\n",
    "                                           param_grid=parameters,\n",
    "                                           scoring='f1_weighted')\n",
    "\n",
    "# fit gridsearch which will use the pipeline to get the final estimator                         \n",
    "grid_search.fit(X_train, y_train)\n",
    "\n",
    "# imblearn pipeline does not have feature_importances_, so refit with the best parameter found\n",
    "clf = RandomForestClassifier(max_depth=grid_search.best_params_['classifier__max_depth'], \n",
    "                             n_estimators=grid_search.best_params_['classifier__n_estimators'], \n",
    "                             min_samples_split=grid_search.best_params_['classifier__min_samples_split'])\n",
    "\n",
    "# fit against X_train and y_train so we can make predictions\n",
    "clf.fit(X_train, y_train)"
   ]
  },
  {
   "cell_type": "code",
   "execution_count": 12,
   "metadata": {},
   "outputs": [
    {
     "name": "stdout",
     "output_type": "stream",
     "text": [
      "             precision    recall  f1-score   support\n",
      "\n",
      "      False       1.00      0.97      0.99     42212\n",
      "       True       0.26      0.80      0.39       506\n",
      "\n",
      "avg / total       0.99      0.97      0.98     42718\n",
      "\n"
     ]
    }
   ],
   "source": [
    "# print out the classification report\n",
    "print(metrics.classification_report(y_test, clf.predict(X_test)))"
   ]
  },
  {
   "cell_type": "code",
   "execution_count": null,
   "metadata": {},
   "outputs": [],
   "source": [
    "# get predicted values from classification so that it could be incorporated into the regression as a feature\n",
    "X = fsl.transform(X)\n",
    "y = train_clean.totalTransactionRevenue > 0\n",
    "purchasePred = clf.predict(X)"
   ]
  },
  {
   "cell_type": "markdown",
   "metadata": {},
   "source": [
    "As shown below we can see that the RandomForest Classifier is able to produce a set of feature importance, that is easily interpretable. The set of feature importance can potentially be leveraged by the marketing team to understand the visits that ends up in purchases or even be used to help design field experiments (e.g. perhaps experiment on the visits with a high hit_totals, where the treatment group would receive a more aggressive ads/promotional deal, and see if that increases purchases and/or convert them into a purchasing one)."
   ]
  },
  {
   "cell_type": "code",
   "execution_count": 31,
   "metadata": {},
   "outputs": [
    {
     "data": {
      "image/png": "[encoded data removed]",
      "text/plain": [
       "<Figure size 720x720 with 1 Axes>"
      ]
     },
     "metadata": {},
     "output_type": "display_data"
    }
   ],
   "source": [
    "# need to do this part to get an inverse transform, so that we can get the feature names that were considered important\n",
    "feat_clf = RandomForestClassifier()\n",
    "feat_clf.fit(fsl.inverse_transform(X_train), y_train)\n",
    "\n",
    "# plot out feature importance\n",
    "feature_importance = pd.DataFrame(list(X.columns), columns=['feature'])\n",
    "feature_importance['weight'] = feat_clf.feature_importances_\n",
    "feature_importance = feature_importance.sort_values(by='weight', ascending=False).reset_index(drop=True)\n",
    "plt.figure(figsize=(10,10))\n",
    "sns.barplot(x='weight', y='feature', data=feature_importance.head(25), color=\"#6b8ba4\")\n",
    "plt.show()"
   ]
  },
  {
   "cell_type": "markdown",
   "metadata": {},
   "source": [
    "Below is the confusion matrix that is produced out of the test data set, as we can see on the bottom right, we managed to predict the majority of the visits that ended up in something being purchased."
   ]
  },
  {
   "cell_type": "code",
   "execution_count": 69,
   "metadata": {},
   "outputs": [
    {
     "data": {
      "image/png": "[encoded data removed]",
      "text/plain": [
       "<Figure size 720x576 with 2 Axes>"
      ]
     },
     "metadata": {},
     "output_type": "display_data"
    }
   ],
   "source": [
    "conf_matrix = metrics.confusion_matrix(y_test, clf.predict(X_test))\n",
    "\n",
    "plt.figure(figsize=(10, 8))\n",
    "sns.heatmap(conf_matrix, annot=True,\n",
    "            fmt='',\n",
    "            xticklabels =[\"no purchase predicted\", \"purchase predicted\"],\n",
    "            yticklabels =[\"no purchase\", \"purchase\"])\n",
    "plt.show()"
   ]
  },
  {
   "cell_type": "markdown",
   "metadata": {},
   "source": [
    "## Regression Model"
   ]
  },
  {
   "cell_type": "markdown",
   "metadata": {},
   "source": [
    "From our Classification Model, we were able to determine the most important features in labeling whether or not a purchase would be made for any given visit to the Google Merchandise Store. Since our feature space is extremely big, we decided to leverage this information for our Regression Model. We decided to use a Random Forest Regression because most of our features are binary which works well with decision tress. Also, Random Forest Regressors limit the number of features that are used per estimator which is ideal because we have such a large feature space. We utilized a GridSearchCV to find the ideal “max_depth”, “n_estimators”, “warm_start”, and “bootstrap” settings for our Random Forest Regression."
   ]
  },
  {
   "cell_type": "code",
   "execution_count": 76,
   "metadata": {},
   "outputs": [],
   "source": [
    "# These are the important features that we found in the Classification Model\n",
    "# To save time, we manually typed out the features so the Classification Model doesn't have to be run\n",
    "\n",
    "#important_features = ['hits_totals', 'timeOnSite', 'pageviews', 'zone_North America',\n",
    "#                      'country_United States', 'subContinent_Northern America', 'sessionQualityDim',\n",
    "#                      'bounces', 'continent_Americas', 'visitNumber_1', 'newVisits',\n",
    "#                      'channelGrouping_Referral', 'deviceCategory_desktop', 'metro_(not set)',\n",
    "#                      'source_(direct)', 'source_youtube.com', 'networkDomain_(not set)',\n",
    "#                      'continent_Europe', 'deviceCategory_mobile', 'browser_Chrome', 'continent_Asia',\n",
    "#                      'zone_EMEA', 'channelGrouping_Social', 'referralPath_/',\n",
    "#                      'fullVisitorId', 'totalTransactionRevenue']\n",
    "\n",
    "important_features = list(feature_importance.feature[0:25])\n",
    "important_features.extend(['fullVisitorId', 'totalTransactionRevenue'])\n",
    "\n",
    "# Create a data set for the regression based on only the the important features\n",
    "RegData = train_clean[important_features].copy()\n",
    "RegData['transactions'] = train_clean['transactions']\n",
    "RegData['purchasePred'] = purchasePred\n",
    "\n",
    "# Find all of the unique fullVisitorId from the df and store it into visitor_id_list\n",
    "visitor_id_list = pd.Series(RegData.fullVisitorId.unique())\n",
    "# Create a test set by randomly sampling 25% of the unique fullVisitorId from the list\n",
    "# The random seed is set to 207 in honor of this class so that our data doesn't change.\n",
    "test_visitor_id_list = visitor_id_list.sample(n=int(0.25 * len(visitor_id_list)), random_state=207)\n",
    "\n",
    "# Create the training set by only pulling the fullVisitorIds that are not in test_visitor_id_list\n",
    "X_train = RegData[~RegData.fullVisitorId.isin(test_visitor_id_list)]\n",
    "y_train = X_train.totalTransactionRevenue\n",
    "\n",
    "# Create the test set by only pulling the fullVisitorIds that are in the test_visitor_id_list\n",
    "X_test = RegData[RegData.fullVisitorId.isin(visitor_id_list)]\n",
    "y_test = X_test.totalTransactionRevenue"
   ]
  },
  {
   "cell_type": "code",
   "execution_count": 22,
   "metadata": {},
   "outputs": [],
   "source": [
    "# We decided to use a RandomForest Regressor()\n",
    "rdForest = RandomForestRegressor()"
   ]
  },
  {
   "cell_type": "code",
   "execution_count": null,
   "metadata": {},
   "outputs": [],
   "source": [
    "# Define parameters we want to optimize for GridSearchCV\n",
    "parameters = dict(max_depth = list(range(8,12,1)),\n",
    "                  n_estimators = list(range(200,300,25)),\n",
    "                  warm_start = [True, False],\n",
    "                  bootstrap = [True, False])\n",
    "\n",
    "# Fit and predict the best model parameters using GridSearchCV\n",
    "grid_search = model_selection.GridSearchCV(rdForest,\n",
    "                                           param_grid=parameters,\n",
    "                                           scoring='neg_mean_squared_error')\n",
    "\n",
    "# We want to drop fullVisitorId and totalTransactionRevenue before we fit the data\n",
    "grid_search.fit(X_train.drop(['fullVisitorId', 'totalTransactionRevenue'], axis=1), y_train)"
   ]
  },
  {
   "cell_type": "code",
   "execution_count": null,
   "metadata": {},
   "outputs": [],
   "source": [
    "# The our resulting best estimator\n",
    "grid_search.best_estimator_"
   ]
  },
  {
   "cell_type": "markdown",
   "metadata": {},
   "source": [
    "As shown above, our resulting best estimator has a max_depth of 8, n_estimators of 200, warm_start = False, and bootstrap = True."
   ]
  },
  {
   "cell_type": "code",
   "execution_count": 77,
   "metadata": {},
   "outputs": [],
   "source": [
    "# Create a new Random Forest Regressor with these ideal parameters\n",
    "rdForest = RandomForestRegressor(max_depth=8, n_estimators=200, warm_start=False, bootstrap=True)\n",
    "\n",
    "# Fit our resulting best Random Forest Regression with the training data\n",
    "# We want to drop fullVisitorId and totalTransactionRevenue before we fit the data\n",
    "rdForest.fit(X_train.drop(['fullVisitorId', 'totalTransactionRevenue'], axis=1), y_train)\n",
    "             \n",
    "# Now use that to predict the resulting \n",
    "X_test['predictedTransactionRevenue'] = rdForest.predict(X_test.drop(['fullVisitorId', 'totalTransactionRevenue'], axis=1))"
   ]
  },
  {
   "cell_type": "markdown",
   "metadata": {},
   "source": [
    "## Aggregating Predictions"
   ]
  },
  {
   "cell_type": "markdown",
   "metadata": {},
   "source": [
    "At this point, we have predicted the `totalTransactionRevenue` for each online visit to the Google Merchandise Store in our X_test data set and stored it as `predictedTransactionRevenue`. Now, we can aggregate the `predictedTransactionRevenue` by `fullVisitorId` and calculate the corresponding `predictedLogRevenue`. We will also aggregate the `totalTransactionRevenue` by `fullVisitorId` and calculate the corresponding `trueLogRevenue`. We will then test the RMSE between the `predictedLogRevenue` and the `trueLogRevenue`."
   ]
  },
  {
   "cell_type": "code",
   "execution_count": 78,
   "metadata": {},
   "outputs": [],
   "source": [
    "# Aggregate predictedTransactionRevenue per user grouped by fullVisitorId\n",
    "predictedResults = X_test.groupby('fullVisitorId').predictedTransactionRevenue.sum().to_frame()\n",
    "\n",
    "# Log the sum of revenue and store it as predictedLogRevenue\n",
    "predictedResults['predictedLogRevenue'] = predictedResults.predictedTransactionRevenue + 1\n",
    "predictedResults['predictedLogRevenue'] = predictedResults.predictedLogRevenue.apply(np.log)"
   ]
  },
  {
   "cell_type": "code",
   "execution_count": 79,
   "metadata": {},
   "outputs": [],
   "source": [
    "# Aggregate totalTransactionRevenue per user grouped by fullVisitorId\n",
    "trueResults = X_test.groupby('fullVisitorId').totalTransactionRevenue.sum().to_frame()\n",
    "\n",
    "# Log the sum of revenue and store it as predictedLogRevenue\n",
    "trueResults['trueLogRevenue'] = trueResults.totalTransactionRevenue + 1\n",
    "trueResults['trueLogRevenue'] = trueResults.trueLogRevenue.apply(np.log)"
   ]
  },
  {
   "cell_type": "markdown",
   "metadata": {},
   "source": [
    "Now that we have the `predictedLogRevenue` and the `trueLogRevenue`, we can calculate the RMSE between them.\n",
    "\n",
    "<br>As a reminder, the Root Mean Squared Error (RMSE) is:\n",
    "\n",
    "$$RMSE = \\sqrt{\\frac{1}{n}\\sum_{i=1}^n(y_i-\\hat{y_i})^2}$$\n",
    "where $\\hat{y}$ is the predicted revenue for a customer for a customer and $y$ is the natural log of the actual summed revenue value plus one."
   ]
  },
  {
   "cell_type": "code",
   "execution_count": 80,
   "metadata": {},
   "outputs": [
    {
     "data": {
      "text/plain": [
       "0.1391775159163254"
      ]
     },
     "execution_count": 80,
     "metadata": {},
     "output_type": "execute_result"
    }
   ],
   "source": [
    "# First we calculate y_i = y_ihat\n",
    "RMSE = trueResults['trueLogRevenue'] - predictedResults['predictedLogRevenue']\n",
    "# Then we square the results\n",
    "RMSE = np.square(RMSE)\n",
    "# Then we calculate the mean\n",
    "RMSE = np.mean(RMSE)\n",
    "# Finally, we take the square root\n",
    "RMSE = np.sqrt(RMSE)\n",
    "RMSE"
   ]
  },
  {
   "cell_type": "markdown",
   "metadata": {},
   "source": [
    "As shown above, the RMSE score we ended up with is 0.1393. This would put us in position 554 on the Kaggle Leaderboard for this problem."
   ]
  },
  {
   "cell_type": "markdown",
   "metadata": {},
   "source": [
    "<img src='KaggleLeaderBoard.png'>"
   ]
  },
  {
   "cell_type": "markdown",
   "metadata": {},
   "source": [
    "# Error Analysis and Lessons Learned:\n",
    "\n",
    "We tried a lot of different methods and always ended up with subpar RMSE results.\n",
    "\n",
    "First of all, we realized that the original data set was just way too big for us to do anything with on our laptops. We had to make the decision to randomly sample 10% of the original data set. This new data set was much more manageable, but still took a long time to run each code blocks.\n",
    "\n",
    "The next thing we realized was that the features in our data set was just a mess. There were lots of improper NaN values, a lot of useless features, and some very complex embedded information that was difficult to extract. It was a very heavy undertaking to clean up the data set into one that we can build models with.\n",
    "\n",
    "The next problem we ran across was a ridiculous feature space. There were so many features provided to us and they were all a mix of numeric and categorical data. We first deleted all of the useless features from our list and then we had to use the One Hot Encode method to create binarized feature columns for each of our categorical features.\n",
    "\n",
    "We first tried to aggregate these features by `fullVisitorId` and then fitting it to various Regression Models but we couldn’t get the RMSE to be smaller than 1.7. Then we figured that rather than predicting how much revenue a certain `fullVisitorId` would contribute, it would make more sense to predict how much revenue is generated on each visit to the online Google Merchandise Store.\n",
    "\n",
    "But before, we did that, we wanted to see if we can run a Classification Model to predict which visit to the store would generate a purchase. Upon doing this, we were able to identify which features were most important in the prediction.\n",
    "\n",
    "Because of this discovery, we decided to only use these most important features to run a Random Forest Regression and figure out the `predictedTransactionRevenue`.  After we got these predictions, we aggregated the data on the test data set and ended up with our RMSE score."
   ]
  },
  {
   "cell_type": "markdown",
   "metadata": {},
   "source": [
    "# Conclusion:\n",
    "\n",
    "In the end we came up with a RMSE score that was a lot higher than we expected. When we were building models that were trying to predict how much revenue each `fullVisitorId` would contribute and we couldn’t get an RMSE score lower than 1.7. As we racked our brains for solutions, we figured out that each individual may not make a purchase every time they visit the online store, and their meta data could be very different each time they visit the store as well. For example, maybe a person browses the store on his mobile at 2 am in the morning. The next day he browses the store again at 5 pm in the afternoon and this time makes a purchase. If we aggregated the data first by this person’s `fullVisitorId`, information about the time that the person made the purchase and the device he uses to make the purchase would be lost. It makes much more sense to try and determine whether or not the person would make a purchase and how much he will spend based on each of his visits. That way, Google can come up with some actionable strategies such as make the mobile user interface more appealing to try and get people to buy more from their phones, or put all their energy into advertising to people on their computer because they are more likely to buy things anyways."
   ]
  }
 ],
 "metadata": {
  "kernelspec": {
   "display_name": "Python 3",
   "language": "python",
   "name": "python3"
  },
  "language_info": {
   "codemirror_mode": {
    "name": "ipython",
    "version": 3
   },
   "file_extension": ".py",
   "mimetype": "text/x-python",
   "name": "python",
   "nbconvert_exporter": "python",
   "pygments_lexer": "ipython3",
   "version": "3.6.5"
  }
 },
 "nbformat": 4,
 "nbformat_minor": 2
}
